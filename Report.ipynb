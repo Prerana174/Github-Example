{
 "cells": [
  {
   "cell_type": "markdown",
   "metadata": {},
   "source": [
    "# Background  "
   ]
  },
  {
   "cell_type": "markdown",
   "metadata": {},
   "source": [
    "**Worldwide experts estimate that people drink about 2.5 billion cups of coffee a day. Sales in the ready-to-drink market which includes coffee shops are forecast to grow by 67% between now and 2022. Thus its a good business idea to open a coffee shop.\n",
    " But obviously its not necessary that a new coffee shop owner will be immediately successful, only because that business has a good growth rate in market .There are several things that he/she needs to consider in order to succeed. Data science can help this person in several ways. One of those is to help him or her to find the best location for opening the coffee shop.**"
   ]
  },
  {
   "cell_type": "markdown",
   "metadata": {},
   "source": [
    "# Business problem"
   ]
  },
  {
   "cell_type": "markdown",
   "metadata": {},
   "source": [
    "**In Pune (India), love for 'tea' is more than 'coffee'. Bur still, no. of coffee lovers is no less. \n",
    "Mainly, college students prefer coffee shops over tea shops for hanging out. Thus, to open a new cafe its better to find a location, which is near to a college/ colleges. Now how can Data Science help the person to choose the right location? \n",
    "We can use FOURSQUARE location data to hep the person.**"
   ]
  }
 ],
 "metadata": {
  "kernelspec": {
   "display_name": "Python",
   "language": "python",
   "name": "conda-env-python-py"
  },
  "language_info": {
   "codemirror_mode": {
    "name": "ipython",
    "version": 3
   },
   "file_extension": ".py",
   "mimetype": "text/x-python",
   "name": "python",
   "nbconvert_exporter": "python",
   "pygments_lexer": "ipython3",
   "version": "3.6.10"
  }
 },
 "nbformat": 4,
 "nbformat_minor": 4
}
